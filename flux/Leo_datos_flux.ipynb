{
 "cells": [
  {
   "cell_type": "markdown",
   "metadata": {},
   "source": []
  },
  {
   "cell_type": "code",
   "execution_count": null,
   "metadata": {
    "collapsed": true
   },
   "outputs": [],
   "source": [
    "# Esta notebook lee archivos de una gran base de datos de mediciones de la \n",
    "#torre de flujo de Natalia Tonti y prepara los datos para correr \n",
    "#en el programa TK3 de procesamiento de informacion\n",
    "#\n",
    "## Natalia Tonti - Paola Salio\n",
    "## Curso Python DCAO Agosto 2016\n",
    "\n",
    "import numpy as np\n",
    "import os\n",
    "import pandas as pd\n",
    "import csv\n",
    "from datetime import datetime\n",
    "\n",
    "path='/home/salio/curso_python2/wpc-original/flux'\n",
    "\n",
    "#listing = os.listdir(path) NO nos funciono por q lsta no temporalmente\n",
    "# !unzip datos/2014-03-18T180000_AIU-0702.ghg\n",
    "\n",
    "lista =!ls -l *.data\n",
    "listing=[]\n",
    "for jj in range(len(lista)):        \n",
    "        di=lista[jj].split()[8]\n",
    "        listing.append(di)\n",
    "no=0\n",
    "\n",
    "for files in listing:\n",
    "    if files.endswith('.data'):\n",
    "        print(files)\n",
    "        \n",
    "        no+=1\n",
    "        mm=str(no).zfill(4)\n",
    "        salida=\"marchi_\"+mm+\".dat\"                      \n",
    "        f = pd.read_csv(files, skiprows=6, header=1, sep='\\t')\n",
    "        f2=open(salida,'w')\n",
    "\n",
    "        # Creamos la lista de TOA5\n",
    "        ll=[]\n",
    "        for ii in range(f.Date.shape[0]):\n",
    "            dd=datetime.strptime(f.Date[ii],'%Y-%m-%d')\n",
    "            hh=datetime.strptime(f.Time[ii],'%H:%M:%S:%f')\n",
    "            ms=datetime.strftime(hh,'%f')\n",
    "          \n",
    "            aux='\"'+datetime.strftime(dd,'%Y-%m-%d')+' '+\\\n",
    "            datetime.strftime(hh,'%H:%M:%S.')+ms[0]+'\"'\n",
    "                        \n",
    "            ll.append(aux)\n",
    "            \n",
    "        f = f.assign(TOA6=ll)\n",
    "        \n",
    "        header = ['TOA6','Sequence Number','Aux 1 - U (m/s)','Aux 2 - V (m/s)',\n",
    "                  'Aux 3 - W (m/s)', 'Aux 4 - SOS (m/s)','Temperature (C)','CO2 (mmol/m^3)',\n",
    "                  'H2O (mmol/m^3)','Diagnostic Value','Pressure (kPa)']\n",
    "\n",
    "        # quoting=csv.QUOTE_NONE\n",
    "        f.to_csv(salida, sep=',',columns=header, quoting=csv.QUOTE_NONE, index=None, header=None)\n"
   ]
  }
 ],
 "metadata": {
  "anaconda-cloud": {},
  "kernelspec": {
   "display_name": "Python [Root]",
   "language": "python",
   "name": "Python [Root]"
  },
  "language_info": {
   "codemirror_mode": {
    "name": "ipython",
    "version": 3
   },
   "file_extension": ".py",
   "mimetype": "text/x-python",
   "name": "python",
   "nbconvert_exporter": "python",
   "pygments_lexer": "ipython3",
   "version": "3.5.2"
  }
 },
 "nbformat": 4,
 "nbformat_minor": 0
}
